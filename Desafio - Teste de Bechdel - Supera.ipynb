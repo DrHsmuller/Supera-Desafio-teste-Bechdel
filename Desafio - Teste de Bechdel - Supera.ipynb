{
 "cells": [
  {
   "cell_type": "markdown",
   "metadata": {},
   "source": [
    "## Desafio Supera - Teste de *Bechdel*\n",
    "                                                                  Desafiante : Herick Sampaio Muller \n",
    "\n",
    "\n",
    "    Os dados são referentes ao teste de \"bechdel\". Este teste averigua se uma obra de ficção possui ao menos duas mulheres que conversam entre si sobre algo que não seja um homem.Algumas vezes se adiciona a condição de que as duas mulheres tenham nomes. Muitas obras contemporâneas falham no teste, que é um indicativo de preconceito de gênero. Em média, filmes que passaram no teste possuíam orçamento mais baixo que outros, mas um desempenho financeiro melhor ou equivalente. \n",
    "   \n",
    "    O teste recebe o nome em homenagem à cartunista norte-americana Alison Bechdel. Em 1985, uma personagem de seus quadrinhos Dykes to Watch Out For expressou a ideia, que a autora atribuiu a sua amiga Liz Wallace. O teste foi originalmente criado para avaliar filmes, mas é também aplicado para outras mídias. Também é conhecido como o teste de Bechdel/Wallace.\n",
    "   Fonte: https://pt.wikipedia.org/wiki/Teste_de_Bechdel\n",
    "   \n",
    "\n",
    "\n",
    "\n",
    "##### Dicionário do teste : \n",
    "- year: Year\tof\trelease;\n",
    "- imdb: Text\tto\tconstruct\tIMDB\turl.\tEx:\thttp://www.imdb.com/title/tt1711425;\n",
    "- title: Movie\ttest;\n",
    "- binary: Bechdel\tTest\tPASS\tvs\tFAIL\tbinary;\n",
    "- budget: Film\tbudget;\n",
    "- domgross: Domestic\t(US)\tgross;\n",
    "- intgross: Total\tInternational\t(i.e.,\tworldwide)\tgross;\n",
    "- budget_2013: Budget\tin\t2013\tinflation\tadjusted\tdollars;\n",
    "- domgross_2013: Domestic\tgross\t(US)\tin\t2013\tinflation\tadjusted\tdollars;\n",
    "- intgross_2013: Total\tInternational\t(i.e.,\tworldwide)\tgross\tin\t2013\tinflation adjusted\tdollars.\n",
    "\n",
    "Fonte: Supera - dicionário referente ao Desafio, 2021."
   ]
  },
  {
   "cell_type": "markdown",
   "metadata": {},
   "source": [
    "#### Carrengando bibliotecas para análise do estudo"
   ]
  },
  {
   "cell_type": "code",
   "execution_count": 1,
   "metadata": {},
   "outputs": [
    {
     "name": "stdout",
     "output_type": "stream",
     "text": [
      "Bibliotecas foram carregadas!\n"
     ]
    }
   ],
   "source": [
    "import pandas as pd\n",
    "import numpy as np\n",
    "import matplotlib.pyplot as plt\n",
    "import seaborn as sns\n",
    "\n",
    "\n",
    "print(\"Bibliotecas foram carregadas!\")"
   ]
  },
  {
   "cell_type": "markdown",
   "metadata": {},
   "source": [
    "#### Importando dados\n",
    "##### Variáveis:\n",
    "- caminho: variavel contendo o caminho da importação dos dados;\n",
    "- df = dataframe criado usando a variavel caminho;\n"
   ]
  },
  {
   "cell_type": "code",
   "execution_count": 2,
   "metadata": {},
   "outputs": [
    {
     "name": "stdout",
     "output_type": "stream",
     "text": [
      "Variaveis foram criadas!\n"
     ]
    }
   ],
   "source": [
    "path = r\"C:\\Users\\Palad\\OneDrive\\Área de Trabalho\\supera-data-test\\bechdel.xlsx\"\n",
    "df = pd.read_excel(path)\n",
    "\n",
    "print(\"Variaveis foram criadas!\")"
   ]
  },
  {
   "cell_type": "markdown",
   "metadata": {},
   "source": [
    "#### Análise explanatoria dos dados\n",
    "##### Parte 1 - Objetivos:\n",
    "- Verificar erros na leitura dos dados dos dados importados do excel;\n",
    "- Procurar presença de NaN's no dataframe;\n",
    "- Caso encontrado, tratar os dados com as métricas apropriadas (caso possível)."
   ]
  },
  {
   "cell_type": "code",
   "execution_count": 3,
   "metadata": {},
   "outputs": [
    {
     "data": {
      "text/html": [
       "<div>\n",
       "<style scoped>\n",
       "    .dataframe tbody tr th:only-of-type {\n",
       "        vertical-align: middle;\n",
       "    }\n",
       "\n",
       "    .dataframe tbody tr th {\n",
       "        vertical-align: top;\n",
       "    }\n",
       "\n",
       "    .dataframe thead th {\n",
       "        text-align: right;\n",
       "    }\n",
       "</style>\n",
       "<table border=\"1\" class=\"dataframe\">\n",
       "  <thead>\n",
       "    <tr style=\"text-align: right;\">\n",
       "      <th></th>\n",
       "      <th>year</th>\n",
       "      <th>imdb</th>\n",
       "      <th>budget</th>\n",
       "      <th>domgross</th>\n",
       "      <th>intgross</th>\n",
       "      <th>code</th>\n",
       "      <th>budget_2013</th>\n",
       "      <th>domgross_2013</th>\n",
       "      <th>intgross_2013</th>\n",
       "      <th>binary</th>\n",
       "    </tr>\n",
       "  </thead>\n",
       "  <tbody>\n",
       "    <tr>\n",
       "      <th>0</th>\n",
       "      <td>1974</td>\n",
       "      <td>tt0071562</td>\n",
       "      <td>13000000</td>\n",
       "      <td>57300000.0</td>\n",
       "      <td>57300000.0</td>\n",
       "      <td>1974PASS</td>\n",
       "      <td>61408439</td>\n",
       "      <td>270669505.0</td>\n",
       "      <td>270669505.0</td>\n",
       "      <td>PASS</td>\n",
       "    </tr>\n",
       "    <tr>\n",
       "      <th>1</th>\n",
       "      <td>1982</td>\n",
       "      <td>tt0084516</td>\n",
       "      <td>10700000</td>\n",
       "      <td>74706019.0</td>\n",
       "      <td>121706019.0</td>\n",
       "      <td>1982PASS</td>\n",
       "      <td>25821968</td>\n",
       "      <td>180285645.0</td>\n",
       "      <td>293709241.0</td>\n",
       "      <td>PASS</td>\n",
       "    </tr>\n",
       "    <tr>\n",
       "      <th>2</th>\n",
       "      <td>2008</td>\n",
       "      <td>tt0800241</td>\n",
       "      <td>15000000</td>\n",
       "      <td>2203641.0</td>\n",
       "      <td>6379575.0</td>\n",
       "      <td>2008PASS</td>\n",
       "      <td>16233845</td>\n",
       "      <td>2384904.0</td>\n",
       "      <td>6904335.0</td>\n",
       "      <td>PASS</td>\n",
       "    </tr>\n",
       "  </tbody>\n",
       "</table>\n",
       "</div>"
      ],
      "text/plain": [
       "   year       imdb    budget    domgross     intgross      code  budget_2013  \\\n",
       "0  1974  tt0071562  13000000  57300000.0   57300000.0  1974PASS     61408439   \n",
       "1  1982  tt0084516  10700000  74706019.0  121706019.0  1982PASS     25821968   \n",
       "2  2008  tt0800241  15000000   2203641.0    6379575.0  2008PASS     16233845   \n",
       "\n",
       "   domgross_2013  intgross_2013 binary  \n",
       "0    270669505.0    270669505.0   PASS  \n",
       "1    180285645.0    293709241.0   PASS  \n",
       "2      2384904.0      6904335.0   PASS  "
      ]
     },
     "execution_count": 3,
     "metadata": {},
     "output_type": "execute_result"
    }
   ],
   "source": [
    "df.head(3)"
   ]
  },
  {
   "cell_type": "code",
   "execution_count": 4,
   "metadata": {},
   "outputs": [
    {
     "data": {
      "text/html": [
       "<div>\n",
       "<style scoped>\n",
       "    .dataframe tbody tr th:only-of-type {\n",
       "        vertical-align: middle;\n",
       "    }\n",
       "\n",
       "    .dataframe tbody tr th {\n",
       "        vertical-align: top;\n",
       "    }\n",
       "\n",
       "    .dataframe thead th {\n",
       "        text-align: right;\n",
       "    }\n",
       "</style>\n",
       "<table border=\"1\" class=\"dataframe\">\n",
       "  <thead>\n",
       "    <tr style=\"text-align: right;\">\n",
       "      <th></th>\n",
       "      <th>year</th>\n",
       "      <th>imdb</th>\n",
       "      <th>budget</th>\n",
       "      <th>domgross</th>\n",
       "      <th>intgross</th>\n",
       "      <th>code</th>\n",
       "      <th>budget_2013</th>\n",
       "      <th>domgross_2013</th>\n",
       "      <th>intgross_2013</th>\n",
       "      <th>binary</th>\n",
       "    </tr>\n",
       "  </thead>\n",
       "  <tbody>\n",
       "    <tr>\n",
       "      <th>1497</th>\n",
       "      <td>2006</td>\n",
       "      <td>tt0493430</td>\n",
       "      <td>11000000</td>\n",
       "      <td>72778712.0</td>\n",
       "      <td>85278712.0</td>\n",
       "      <td>2006FAIL</td>\n",
       "      <td>12713760</td>\n",
       "      <td>84117369.0</td>\n",
       "      <td>98564824.0</td>\n",
       "      <td>FAIL</td>\n",
       "    </tr>\n",
       "    <tr>\n",
       "      <th>1498</th>\n",
       "      <td>2005</td>\n",
       "      <td>tt0352248</td>\n",
       "      <td>88000000</td>\n",
       "      <td>61649911.0</td>\n",
       "      <td>108539911.0</td>\n",
       "      <td>2005FAIL</td>\n",
       "      <td>104986915</td>\n",
       "      <td>73550386.0</td>\n",
       "      <td>129491710.0</td>\n",
       "      <td>FAIL</td>\n",
       "    </tr>\n",
       "    <tr>\n",
       "      <th>1499</th>\n",
       "      <td>1998</td>\n",
       "      <td>tt0122718</td>\n",
       "      <td>40000000</td>\n",
       "      <td>55143823.0</td>\n",
       "      <td>71743823.0</td>\n",
       "      <td>1998FAIL</td>\n",
       "      <td>57165293</td>\n",
       "      <td>78807819.0</td>\n",
       "      <td>102531416.0</td>\n",
       "      <td>FAIL</td>\n",
       "    </tr>\n",
       "  </tbody>\n",
       "</table>\n",
       "</div>"
      ],
      "text/plain": [
       "      year       imdb    budget    domgross     intgross      code  \\\n",
       "1497  2006  tt0493430  11000000  72778712.0   85278712.0  2006FAIL   \n",
       "1498  2005  tt0352248  88000000  61649911.0  108539911.0  2005FAIL   \n",
       "1499  1998  tt0122718  40000000  55143823.0   71743823.0  1998FAIL   \n",
       "\n",
       "      budget_2013  domgross_2013  intgross_2013 binary  \n",
       "1497     12713760     84117369.0     98564824.0   FAIL  \n",
       "1498    104986915     73550386.0    129491710.0   FAIL  \n",
       "1499     57165293     78807819.0    102531416.0   FAIL  "
      ]
     },
     "execution_count": 4,
     "metadata": {},
     "output_type": "execute_result"
    }
   ],
   "source": [
    "df.tail(3)"
   ]
  },
  {
   "cell_type": "code",
   "execution_count": 5,
   "metadata": {},
   "outputs": [
    {
     "data": {
      "text/plain": [
       "Index(['year', 'imdb', 'budget', 'domgross', 'intgross', 'code', 'budget_2013',\n",
       "       'domgross_2013', 'intgross_2013', 'binary'],\n",
       "      dtype='object')"
      ]
     },
     "execution_count": 5,
     "metadata": {},
     "output_type": "execute_result"
    }
   ],
   "source": [
    "df.columns"
   ]
  },
  {
   "cell_type": "code",
   "execution_count": 6,
   "metadata": {},
   "outputs": [
    {
     "name": "stdout",
     "output_type": "stream",
     "text": [
      "<class 'pandas.core.frame.DataFrame'>\n",
      "RangeIndex: 1500 entries, 0 to 1499\n",
      "Data columns (total 10 columns):\n",
      " #   Column         Non-Null Count  Dtype  \n",
      "---  ------         --------------  -----  \n",
      " 0   year           1500 non-null   int64  \n",
      " 1   imdb           1500 non-null   object \n",
      " 2   budget         1500 non-null   int64  \n",
      " 3   domgross       1485 non-null   float64\n",
      " 4   intgross       1491 non-null   float64\n",
      " 5   code           1500 non-null   object \n",
      " 6   budget_2013    1500 non-null   int64  \n",
      " 7   domgross_2013  1484 non-null   float64\n",
      " 8   intgross_2013  1491 non-null   float64\n",
      " 9   binary         1500 non-null   object \n",
      "dtypes: float64(4), int64(3), object(3)\n",
      "memory usage: 117.3+ KB\n"
     ]
    }
   ],
   "source": [
    "df.info()"
   ]
  },
  {
   "cell_type": "code",
   "execution_count": 7,
   "metadata": {},
   "outputs": [
    {
     "data": {
      "text/plain": [
       "year             0.00\n",
       "imdb             0.00\n",
       "budget           0.00\n",
       "domgross         1.00\n",
       "intgross         0.60\n",
       "code             0.00\n",
       "budget_2013      0.00\n",
       "domgross_2013    1.07\n",
       "intgross_2013    0.60\n",
       "binary           0.00\n",
       "dtype: float64"
      ]
     },
     "execution_count": 7,
     "metadata": {},
     "output_type": "execute_result"
    }
   ],
   "source": [
    "percentualNulos = np.round((df.isnull().sum()/len(df))*100,2)\n",
    "percentualNulos"
   ]
  },
  {
   "cell_type": "markdown",
   "metadata": {},
   "source": [
    "#### O que temos :\n",
    "Nas colunas (chamadas de características/features) 'domgross','intgross','domgross_2013','intgross_2013' foram encontrados dados 'nulos'. As formas de tratamento sugeridas são:\n",
    "1. Uso de dados de medida central;\n",
    "2. Remoção dos dados nulos;\n",
    "3. Aquisição dos dados faltantes e;\n",
    "4. Optar por manter os dados nulos. \n",
    "\n",
    "Os tratamentos sugeridos dependem do 'tipo' do problema proposto, pois devem ser analisadas algumas características, como:\n",
    "\n",
    "- As features podem ser ajustadas por dados de medidas centrais? \n",
    "R: \n",
    "Aplicável quando os valores possam estar enquadrados em algum padrão reconhecido. Ex: Uso da moda - numero de portas de um carro, leva-se em conta o modelo do carro, o ano de fabricação e o preço médio dos carros. Faz-se uso da 'moda' dos modelos de carro fabricados em  ano em comum e que estejam com valores selhantes. \n",
    "- Optar por manter dados Nulos? \n",
    "R:\n",
    "Aplicável quando os dados possam ser usados como uma resposta para alguma pergunta do problema.\n",
    "\n",
    "- Aquisicação dos dados faltantes? \n",
    "R:\n",
    "Aplicável quando há esta possibilidade.\n",
    "\n",
    "- Remover dados nulos?\n",
    "R:\n",
    "Aplicável quando os dados não possam ser ajustados pelas sugestões acima, leva-se em consideração o percentual de dados ausentes para esta solução.\n",
    "\n",
    "###### Caminho proposto:\n",
    "Para o desafio, optei por remover os dados ausentes pois eles não representam cerca de 01% dos dados gerais. A presença dos dados nulos podem acarretar erros na vizualização dos dados e em aplicaçãos de modelos de predição."
   ]
  },
  {
   "cell_type": "code",
   "execution_count": 8,
   "metadata": {},
   "outputs": [],
   "source": [
    "# Remoção dos dados nulos\n",
    "df2 = df\n",
    "df2.dropna(axis=0, inplace=True)"
   ]
  },
  {
   "cell_type": "code",
   "execution_count": 9,
   "metadata": {},
   "outputs": [
    {
     "data": {
      "text/plain": [
       "year             0\n",
       "imdb             0\n",
       "budget           0\n",
       "domgross         0\n",
       "intgross         0\n",
       "code             0\n",
       "budget_2013      0\n",
       "domgross_2013    0\n",
       "intgross_2013    0\n",
       "binary           0\n",
       "dtype: int64"
      ]
     },
     "execution_count": 9,
     "metadata": {},
     "output_type": "execute_result"
    }
   ],
   "source": [
    "df2.isna().sum()"
   ]
  },
  {
   "cell_type": "markdown",
   "metadata": {},
   "source": [
    "Análises Estatisticas para o problema"
   ]
  },
  {
   "cell_type": "code",
   "execution_count": 11,
   "metadata": {},
   "outputs": [
    {
     "name": "stdout",
     "output_type": "stream",
     "text": [
      "Correlaçao de Person:                    year    budget  domgross  intgross  budget_2013  \\\n",
      "year           1.000000  0.251715  0.010825  0.093296     0.078045   \n",
      "budget         0.251715  1.000000  0.634855  0.708247     0.964863   \n",
      "domgross       0.010825  0.634855  1.000000  0.940320     0.642014   \n",
      "intgross       0.093296  0.708247  0.940320  1.000000     0.696533   \n",
      "budget_2013    0.078045  0.964863  0.642014  0.696533     1.000000   \n",
      "domgross_2013 -0.297862  0.392313  0.854521  0.748851     0.462779   \n",
      "intgross_2013 -0.143916  0.549482  0.903216  0.911190     0.595499   \n",
      "\n",
      "               domgross_2013  intgross_2013  \n",
      "year               -0.297862      -0.143916  \n",
      "budget              0.392313       0.549482  \n",
      "domgross            0.854521       0.903216  \n",
      "intgross            0.748851       0.911190  \n",
      "budget_2013         0.462779       0.595499  \n",
      "domgross_2013       1.000000       0.926564  \n",
      "intgross_2013       0.926564       1.000000  \n",
      "\n",
      "\n",
      "\n",
      "Correlaçao de Spearman:                    year    budget  domgross  intgross  budget_2013  \\\n",
      "year           1.000000  0.196994 -0.005177  0.082682     0.012413   \n",
      "budget         0.196994  1.000000  0.653881  0.711654     0.970822   \n",
      "domgross      -0.005177  0.653881  1.000000  0.949047     0.679550   \n",
      "intgross       0.082682  0.711654  0.949047  1.000000     0.718177   \n",
      "budget_2013    0.012413  0.970822  0.679550  0.718177     1.000000   \n",
      "domgross_2013 -0.178243  0.582793  0.973252  0.902152     0.653600   \n",
      "intgross_2013 -0.072455  0.657560  0.949010  0.978700     0.705719   \n",
      "\n",
      "               domgross_2013  intgross_2013  \n",
      "year               -0.178243      -0.072455  \n",
      "budget              0.582793       0.657560  \n",
      "domgross            0.973252       0.949010  \n",
      "intgross            0.902152       0.978700  \n",
      "budget_2013         0.653600       0.705719  \n",
      "domgross_2013       1.000000       0.948161  \n",
      "intgross_2013       0.948161       1.000000  \n"
     ]
    }
   ],
   "source": [
    "print ('Correlaçao de Person:', df2.corr())\n",
    "print('\\n\\n')\n",
    "print ('Correlaçao de Spearman:', df2.corr('spearman'))"
   ]
  },
  {
   "cell_type": "code",
   "execution_count": 46,
   "metadata": {},
   "outputs": [
    {
     "data": {
      "text/html": [
       "<div>\n",
       "<style scoped>\n",
       "    .dataframe tbody tr th:only-of-type {\n",
       "        vertical-align: middle;\n",
       "    }\n",
       "\n",
       "    .dataframe tbody tr th {\n",
       "        vertical-align: top;\n",
       "    }\n",
       "\n",
       "    .dataframe thead th {\n",
       "        text-align: right;\n",
       "    }\n",
       "</style>\n",
       "<table border=\"1\" class=\"dataframe\">\n",
       "  <thead>\n",
       "    <tr style=\"text-align: right;\">\n",
       "      <th></th>\n",
       "      <th>year</th>\n",
       "      <th>budget</th>\n",
       "      <th>domgross</th>\n",
       "      <th>intgross</th>\n",
       "      <th>budget_2013</th>\n",
       "      <th>domgross_2013</th>\n",
       "      <th>intgross_2013</th>\n",
       "    </tr>\n",
       "  </thead>\n",
       "  <tbody>\n",
       "    <tr>\n",
       "      <th>count</th>\n",
       "      <td>1484.000000</td>\n",
       "      <td>1.484000e+03</td>\n",
       "      <td>1.484000e+03</td>\n",
       "      <td>1.484000e+03</td>\n",
       "      <td>1.484000e+03</td>\n",
       "      <td>1.484000e+03</td>\n",
       "      <td>1.484000e+03</td>\n",
       "    </tr>\n",
       "    <tr>\n",
       "      <th>mean</th>\n",
       "      <td>2002.595013</td>\n",
       "      <td>4.555538e+07</td>\n",
       "      <td>7.044093e+07</td>\n",
       "      <td>1.545368e+08</td>\n",
       "      <td>5.631130e+07</td>\n",
       "      <td>9.719035e+07</td>\n",
       "      <td>2.037077e+08</td>\n",
       "    </tr>\n",
       "    <tr>\n",
       "      <th>std</th>\n",
       "      <td>8.903832</td>\n",
       "      <td>4.887279e+07</td>\n",
       "      <td>8.201263e+07</td>\n",
       "      <td>2.165234e+08</td>\n",
       "      <td>5.586332e+07</td>\n",
       "      <td>1.293537e+08</td>\n",
       "      <td>2.921966e+08</td>\n",
       "    </tr>\n",
       "    <tr>\n",
       "      <th>min</th>\n",
       "      <td>1970.000000</td>\n",
       "      <td>7.000000e+03</td>\n",
       "      <td>8.280000e+02</td>\n",
       "      <td>8.280000e+02</td>\n",
       "      <td>8.632000e+03</td>\n",
       "      <td>8.990000e+02</td>\n",
       "      <td>8.990000e+02</td>\n",
       "    </tr>\n",
       "    <tr>\n",
       "      <th>25%</th>\n",
       "      <td>1998.000000</td>\n",
       "      <td>1.200000e+07</td>\n",
       "      <td>1.624430e+07</td>\n",
       "      <td>2.582818e+07</td>\n",
       "      <td>1.614374e+07</td>\n",
       "      <td>2.021705e+07</td>\n",
       "      <td>3.278405e+07</td>\n",
       "    </tr>\n",
       "    <tr>\n",
       "      <th>50%</th>\n",
       "      <td>2005.000000</td>\n",
       "      <td>2.900000e+07</td>\n",
       "      <td>4.270488e+07</td>\n",
       "      <td>7.874669e+07</td>\n",
       "      <td>3.699579e+07</td>\n",
       "      <td>5.607562e+07</td>\n",
       "      <td>9.933237e+07</td>\n",
       "    </tr>\n",
       "    <tr>\n",
       "      <th>75%</th>\n",
       "      <td>2009.000000</td>\n",
       "      <td>6.300000e+07</td>\n",
       "      <td>9.505252e+07</td>\n",
       "      <td>1.986160e+08</td>\n",
       "      <td>8.168407e+07</td>\n",
       "      <td>1.255309e+08</td>\n",
       "      <td>2.467075e+08</td>\n",
       "    </tr>\n",
       "    <tr>\n",
       "      <th>max</th>\n",
       "      <td>2013.000000</td>\n",
       "      <td>4.250000e+08</td>\n",
       "      <td>7.605076e+08</td>\n",
       "      <td>2.783919e+09</td>\n",
       "      <td>4.614359e+08</td>\n",
       "      <td>1.771683e+09</td>\n",
       "      <td>3.171931e+09</td>\n",
       "    </tr>\n",
       "  </tbody>\n",
       "</table>\n",
       "</div>"
      ],
      "text/plain": [
       "              year        budget      domgross      intgross   budget_2013  \\\n",
       "count  1484.000000  1.484000e+03  1.484000e+03  1.484000e+03  1.484000e+03   \n",
       "mean   2002.595013  4.555538e+07  7.044093e+07  1.545368e+08  5.631130e+07   \n",
       "std       8.903832  4.887279e+07  8.201263e+07  2.165234e+08  5.586332e+07   \n",
       "min    1970.000000  7.000000e+03  8.280000e+02  8.280000e+02  8.632000e+03   \n",
       "25%    1998.000000  1.200000e+07  1.624430e+07  2.582818e+07  1.614374e+07   \n",
       "50%    2005.000000  2.900000e+07  4.270488e+07  7.874669e+07  3.699579e+07   \n",
       "75%    2009.000000  6.300000e+07  9.505252e+07  1.986160e+08  8.168407e+07   \n",
       "max    2013.000000  4.250000e+08  7.605076e+08  2.783919e+09  4.614359e+08   \n",
       "\n",
       "       domgross_2013  intgross_2013  \n",
       "count   1.484000e+03   1.484000e+03  \n",
       "mean    9.719035e+07   2.037077e+08  \n",
       "std     1.293537e+08   2.921966e+08  \n",
       "min     8.990000e+02   8.990000e+02  \n",
       "25%     2.021705e+07   3.278405e+07  \n",
       "50%     5.607562e+07   9.933237e+07  \n",
       "75%     1.255309e+08   2.467075e+08  \n",
       "max     1.771683e+09   3.171931e+09  "
      ]
     },
     "execution_count": 46,
     "metadata": {},
     "output_type": "execute_result"
    }
   ],
   "source": [
    "df2.describe()"
   ]
  },
  {
   "cell_type": "markdown",
   "metadata": {},
   "source": [
    "# Percentual de filmes que passaram/reprovaram no teste\n",
    "\n"
   ]
  },
  {
   "cell_type": "code",
   "execution_count": 36,
   "metadata": {},
   "outputs": [
    {
     "data": {
      "text/plain": [
       "FAIL    55.0\n",
       "PASS    45.0\n",
       "Name: binary, dtype: float64"
      ]
     },
     "execution_count": 36,
     "metadata": {},
     "output_type": "execute_result"
    }
   ],
   "source": [
    "# Percentual de filmes que passaram no teste\n",
    "PassOrNot=np.round(df2['binary'].value_counts(normalize=True),2)*100\n",
    "PassOrNot"
   ]
  },
  {
   "cell_type": "code",
   "execution_count": 43,
   "metadata": {},
   "outputs": [
    {
     "data": {
      "image/png": "[encoded data removed]",
      "text/plain": [
       "<Figure size 432x288 with 1 Axes>"
      ]
     },
     "metadata": {
      "needs_background": "light"
     },
     "output_type": "display_data"
    }
   ],
   "source": [
    "# Vizualicação dos dados \n",
    "sns.boxplot(data=df2,x='binary',y='budget')\n",
    "plt.ylabel('Despesas')\n",
    "plt.xlabel('Resultado do teste')\n",
    "\n",
    "plt.show()\n"
   ]
  },
  {
   "cell_type": "code",
   "execution_count": 41,
   "metadata": {},
   "outputs": [
    {
     "data": {
      "image/png": "[encoded data removed]",
      "text/plain": [
       "<Figure size 432x288 with 1 Axes>"
      ]
     },
     "metadata": {
      "needs_background": "light"
     },
     "output_type": "display_data"
    }
   ],
   "source": [
    "sns.boxplot(data=df2,x='binary',y='intgross')\n",
    "plt.ylabel('Total Internacional')\n",
    "plt.xlabel('Resultado do teste')\n",
    "\n",
    "plt.show()"
   ]
  },
  {
   "cell_type": "code",
   "execution_count": 52,
   "metadata": {},
   "outputs": [
    {
     "data": {
      "image/png": "[encoded data removed]",
      "text/plain": [
       "<Figure size 432x288 with 1 Axes>"
      ]
     },
     "metadata": {
      "needs_background": "light"
     },
     "output_type": "display_data"
    }
   ],
   "source": [
    "sns.boxplot(data=df2,x='binary',y='domgross')\n",
    "plt.ylabel('Bruto Interno')\n",
    "plt.xlabel('Resultado do teste')\n",
    "\n",
    "plt.show()"
   ]
  },
  {
   "cell_type": "code",
   "execution_count": 51,
   "metadata": {},
   "outputs": [
    {
     "data": {
      "text/plain": [
       "Text(0, 0.5, 'Despesas')"
      ]
     },
     "execution_count": 51,
     "metadata": {},
     "output_type": "execute_result"
    },
    {
     "data": {
      "image/png": "[encoded data removed]",
      "text/plain": [
       "<Figure size 432x288 with 1 Axes>"
      ]
     },
     "metadata": {
      "needs_background": "light"
     },
     "output_type": "display_data"
    }
   ],
   "source": [
    "sns.lineplot(data=df2, x='year', y='budget', hue='binary')\n",
    "plt.ylabel('Despesas')"
   ]
  },
  {
   "cell_type": "markdown",
   "metadata": {},
   "source": [
    "#### Achados:\n",
    "\n",
    "1. Cerca de 55% das obras falharam no teste de Bechdel;\n",
    "2. A quantidade de despesas foi observada nas obras que falharam no teste;\n",
    "3. A quantidade do bruto interno e do bruno internacional arrecadado foram maiores nas obras que falharam no teste.\n",
    "4. Com o passar do tempo é possivel verificar que as obras  que falharam nos teste apresentam maiores despesas do que as que passaram.\n",
    "5. A presença de outliers é um fator a ser discutido com o grupo analítico, pois ele pode ser um fator a ser análido. Aqui, as obras que estão dentro deste grupo estavam entre as maiores despesas ou arrecadamento de receita.\n",
    "\n",
    "Interpretação:\n",
    "\n",
    " Com o passar do tempo é possivel verificar que os montantes de despesas ocorridas aumentaram nas obras que não continham as caracteristicas necessarias para passar no teste de Bechdel, contudo, a receita coletada era maior nas obras que falharam no teste.  Os motivos para a receita ter sido maior pode ser varias, desde fatores culturais de determinado Estado quanto a fatores de publicidade das obras.\n"
   ]
  },
  {
   "cell_type": "code",
   "execution_count": null,
   "metadata": {},
   "outputs": [],
   "source": [
    "Preparo dos dados para "
   ]
  },
  {
   "cell_type": "code",
   "execution_count": 53,
   "metadata": {},
   "outputs": [],
   "source": [
    "mediana = PassOrNot.median()\n",
    "mediana2 = df2['budget'].median()\n",
    "mediana3 = df2['intgross'].median()"
   ]
  },
  {
   "cell_type": "code",
   "execution_count": 26,
   "metadata": {},
   "outputs": [
    {
     "data": {
      "text/plain": [
       "<AxesSubplot:>"
      ]
     },
     "execution_count": 26,
     "metadata": {},
     "output_type": "execute_result"
    },
    {
     "data": {
      "image/png": "[encoded data removed]",
      "text/plain": [
       "<Figure size 432x288 with 1 Axes>"
      ]
     },
     "metadata": {
      "needs_background": "light"
     },
     "output_type": "display_data"
    }
   ],
   "source": [
    "DistanciaInterQuartilica = df2['budget'].quantile(0.75) - df2['budget'].quantile(0.25)\n",
    "DistanciaInterQuartilica2 = df2['budget'].quantile(0.75) - df2['budget'].quantile(0.25)\n",
    "DistanciaInterQuartilica3 = df2['budget'].quantile(0.75) - df2['budget'].quantile(0.25)\n",
    "\n",
    "\n",
    "DIQ = DistanciaInterQuartilica\n",
    "DIQ2 = DistanciaInterQuartilica2\n",
    "DIQ3 = DistanciaInterQuartilica3\n",
    "\n",
    "limiteInf = mediana - (DIQ*1.5)\n",
    "limiteSup = mediana +(DIQ*1.5)\n",
    "\n",
    "limiteInf2 = mediana2 - (DIQ*1.5)\n",
    "limiteSup2 = mediana2 +(DIQ*1.5)\n",
    "\n",
    "limiteInf3 = mediana3 +(DIQ*1.5)\n",
    "limiteSup3 = mediana3 +(DIQ*1.5)\n",
    "# seletor \n",
    "seletor1 = df2[(df2['budget'] >=limiteInf) & (df2['budget'] <=limiteSup)]\n",
    "seletor1.boxplot('budget')"
   ]
  },
  {
   "cell_type": "code",
   "execution_count": null,
   "metadata": {},
   "outputs": [],
   "source": []
  },
  {
   "cell_type": "code",
   "execution_count": null,
   "metadata": {},
   "outputs": [],
   "source": []
  },
  {
   "cell_type": "code",
   "execution_count": null,
   "metadata": {},
   "outputs": [],
   "source": []
  },
  {
   "cell_type": "code",
   "execution_count": 33,
   "metadata": {},
   "outputs": [
    {
     "data": {
      "text/plain": [
       "Text(0, 0.5, 'Despesas')"
      ]
     },
     "execution_count": 33,
     "metadata": {},
     "output_type": "execute_result"
    },
    {
     "data": {
      "image/png": "[encoded data removed]",
      "text/plain": [
       "<Figure size 432x288 with 1 Axes>"
      ]
     },
     "metadata": {
      "needs_background": "light"
     },
     "output_type": "display_data"
    }
   ],
   "source": [
    "sns.lineplot(data=df2, x='year', y='budget', hue='binary')\n",
    "plt.ylabel('Despesas')"
   ]
  }
 ],
 "metadata": {
  "kernelspec": {
   "display_name": "Python 3",
   "language": "python",
   "name": "python3"
  },
  "language_info": {
   "codemirror_mode": {
    "name": "ipython",
    "version": 3
   },
   "file_extension": ".py",
   "mimetype": "text/x-python",
   "name": "python",
   "nbconvert_exporter": "python",
   "pygments_lexer": "ipython3",
   "version": "3.8.5"
  }
 },
 "nbformat": 4,
 "nbformat_minor": 4
}
